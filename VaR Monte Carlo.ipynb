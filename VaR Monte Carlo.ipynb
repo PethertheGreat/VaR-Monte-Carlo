{
 "cells": [
  {
   "cell_type": "markdown",
   "metadata": {},
   "source": [
    "Importing libraries"
   ]
  },
  {
   "cell_type": "code",
   "execution_count": 1,
   "metadata": {},
   "outputs": [],
   "source": [
    "import numpy as np\n",
    "import pandas as pd\n",
    "import datetime as dt\n",
    "import yfinance as yf\n",
    "import matplotlib.pyplot as plt\n",
    "from scipy.stats import norm"
   ]
  },
  {
   "cell_type": "markdown",
   "metadata": {},
   "source": [
    "Specyfing a time frame"
   ]
  },
  {
   "cell_type": "code",
   "execution_count": 2,
   "metadata": {},
   "outputs": [],
   "source": [
    "years = 15\n",
    "\n",
    "endDate = dt.datetime.now()\n",
    "startDate = endDate - dt.timedelta(days = 365*years)"
   ]
  },
  {
   "cell_type": "markdown",
   "metadata": {},
   "source": [
    "Creating a list of tickers"
   ]
  },
  {
   "cell_type": "code",
   "execution_count": 3,
   "metadata": {},
   "outputs": [],
   "source": [
    "tickers = [\"SPY\",\"BND\",\"GLD\",\"QQQ\",\"VTI\"]"
   ]
  },
  {
   "cell_type": "markdown",
   "metadata": {},
   "source": [
    "Downloading the data"
   ]
  },
  {
   "cell_type": "code",
   "execution_count": 4,
   "metadata": {},
   "outputs": [
    {
     "name": "stderr",
     "output_type": "stream",
     "text": [
      "[*********************100%%**********************]  1 of 1 completed\n",
      "[*********************100%%**********************]  1 of 1 completed\n",
      "[*********************100%%**********************]  1 of 1 completed\n",
      "[*********************100%%**********************]  1 of 1 completed\n",
      "[*********************100%%**********************]  1 of 1 completed"
     ]
    },
    {
     "name": "stdout",
     "output_type": "stream",
     "text": [
      "                   SPY        BND         GLD         QQQ         VTI\n",
      "Date                                                                 \n",
      "2009-07-07   66.597748  50.444355   90.709999   30.172197   33.598640\n",
      "2009-07-08   66.552368  50.789284   89.269997   30.329487   33.553062\n",
      "2009-07-09   66.680931  50.639572   89.510002   30.381914   33.621449\n",
      "2009-07-10   66.522141  50.821812   89.580002   30.512978   33.537880\n",
      "2009-07-13   68.140587  50.737236   90.190002   31.098423   34.312862\n",
      "...                ...        ...         ...         ...         ...\n",
      "2024-06-26  545.510010  72.038361  212.580002  480.369995  267.780304\n",
      "2024-06-27  546.369995  72.167953  214.990005  481.609985  268.428009\n",
      "2024-06-28  544.219971  71.829002  215.009995  479.109985  267.510010\n",
      "2024-07-01  545.340027  71.449997  215.570007  481.920013  268.049988\n",
      "2024-07-02  549.010010  71.660004  215.559998  486.980011  269.600006\n",
      "\n",
      "[3773 rows x 5 columns]\n"
     ]
    },
    {
     "name": "stderr",
     "output_type": "stream",
     "text": [
      "\n"
     ]
    }
   ],
   "source": [
    "adj_close_df = pd.DataFrame()\n",
    "\n",
    "\n",
    "for ticker in tickers:\n",
    "    data = yf.download(ticker, start = startDate, end = endDate)\n",
    "    adj_close_df[ticker] = data[\"Adj Close\"]\n",
    "\n",
    "\n",
    "print(adj_close_df)"
   ]
  },
  {
   "cell_type": "markdown",
   "metadata": {},
   "source": [
    "Calculating returns"
   ]
  },
  {
   "cell_type": "code",
   "execution_count": 5,
   "metadata": {},
   "outputs": [
    {
     "name": "stdout",
     "output_type": "stream",
     "text": [
      "                 SPY       BND       GLD       QQQ       VTI\n",
      "Date                                                        \n",
      "2009-07-08 -0.000682  0.006815 -0.016002  0.005200 -0.001357\n",
      "2009-07-09  0.001930 -0.002952  0.002685  0.001727  0.002036\n",
      "2009-07-10 -0.002384  0.003592  0.000782  0.004305 -0.002489\n",
      "2009-07-13  0.024038 -0.001666  0.006786  0.019005  0.022845\n",
      "2009-07-14  0.005644 -0.002955  0.006851  0.003646  0.007061\n",
      "...              ...       ...       ...       ...       ...\n",
      "2024-06-26  0.001247 -0.004694 -0.009271  0.002063 -0.000037\n",
      "2024-06-27  0.001575  0.001797  0.011273  0.002578  0.002416\n",
      "2024-06-28 -0.003943 -0.004708  0.000093 -0.005204 -0.003426\n",
      "2024-07-01  0.002056 -0.005290  0.002601  0.005848  0.002016\n",
      "2024-07-02  0.006707  0.002935 -0.000046  0.010445  0.005766\n",
      "\n",
      "[3772 rows x 5 columns]\n"
     ]
    }
   ],
   "source": [
    "log_returns = np.log(adj_close_df/adj_close_df.shift(1))\n",
    "log_returns = log_returns.dropna()\n",
    "\n",
    "print(log_returns)"
   ]
  },
  {
   "cell_type": "markdown",
   "metadata": {},
   "source": [
    "Creating functions for Monte Carlo simulation"
   ]
  },
  {
   "cell_type": "code",
   "execution_count": 6,
   "metadata": {},
   "outputs": [],
   "source": [
    "def expected_return(weights, log_returns):  \n",
    "    return np.sum(log_returns.mean()*weights)\n",
    "\n",
    "def standard_deviation(weights, cov_matrix):\n",
    "    variance = weights.T @ cov_matrix @ weights\n",
    "    return np.sqrt(variance)\n",
    "\n",
    "def random_z_score():\n",
    "    return np.random.normal(0,1)"
   ]
  },
  {
   "cell_type": "code",
   "execution_count": 7,
   "metadata": {},
   "outputs": [
    {
     "name": "stdout",
     "output_type": "stream",
     "text": [
      "              SPY           BND       GLD           QQQ           VTI\n",
      "SPY  1.168616e-04 -1.715897e-07  0.000007  1.287155e-04  1.192974e-04\n",
      "BND -1.715897e-07  9.207246e-06  0.000009  7.220027e-07  2.284519e-08\n",
      "GLD  6.580431e-06  8.635269e-06  0.000097  7.444688e-06  7.168539e-06\n",
      "QQQ  1.287155e-04  7.220027e-07  0.000007  1.646759e-04  1.315621e-04\n",
      "VTI  1.192974e-04  2.284519e-08  0.000007  1.315621e-04  1.228302e-04\n"
     ]
    }
   ],
   "source": [
    "cov_matrix = log_returns.cov()\n",
    "print(cov_matrix)"
   ]
  },
  {
   "cell_type": "code",
   "execution_count": 8,
   "metadata": {},
   "outputs": [],
   "source": [
    "portfolio_value = 1000000\n",
    "weights = np.array([1/len(tickers)]*len(tickers))\n",
    "\n",
    "portfolio_expected_return = expected_return(weights,log_returns)\n",
    "portfolio_std_dev = standard_deviation(weights, cov_matrix)"
   ]
  },
  {
   "cell_type": "code",
   "execution_count": 9,
   "metadata": {},
   "outputs": [],
   "source": [
    "days = 5\n",
    "\n",
    "def scenario_gain_loss(portfolio_value, portfolio_std_dev, z_score, days):\n",
    "    return portfolio_value * portfolio_expected_return*days+portfolio_value*portfolio_std_dev*z_score*np.sqrt(days)"
   ]
  },
  {
   "cell_type": "markdown",
   "metadata": {},
   "source": [
    "Performing simulations, specyfinig number of days"
   ]
  },
  {
   "cell_type": "code",
   "execution_count": 10,
   "metadata": {},
   "outputs": [],
   "source": [
    "simulations = 10000\n",
    "scenarioReturn = []\n",
    "\n",
    "for i in range(simulations):\n",
    "    z_score = random_z_score()\n",
    "    scenarioReturn.append(scenario_gain_loss(portfolio_value, portfolio_std_dev, z_score, days))"
   ]
  },
  {
   "cell_type": "markdown",
   "metadata": {},
   "source": [
    "Specyfing confidence interval, calculating VaR"
   ]
  },
  {
   "cell_type": "code",
   "execution_count": 11,
   "metadata": {},
   "outputs": [
    {
     "name": "stdout",
     "output_type": "stream",
     "text": [
      "34301.832395752666\n"
     ]
    }
   ],
   "source": [
    "confidence_interval = 0.99\n",
    "VaR = -np.percentile(scenarioReturn, 100*( 1-confidence_interval))\n",
    "print(VaR)"
   ]
  },
  {
   "cell_type": "markdown",
   "metadata": {},
   "source": [
    "Plotting the results "
   ]
  },
  {
   "cell_type": "code",
   "execution_count": 12,
   "metadata": {},
   "outputs": [
    {
     "data": {
      "image/png": "[encoded data removed]",
      "text/plain": [
       "<Figure size 640x480 with 1 Axes>"
      ]
     },
     "metadata": {},
     "output_type": "display_data"
    }
   ],
   "source": [
    "plt.hist(scenarioReturn, bins = 50, density=True)\n",
    "plt.xlabel(\"Scenario Gain/Loss [USD]\")\n",
    "plt.ylabel(\"Frequency\")\n",
    "plt.title(f\"Distribution of Portfolio Gain/Loss Over {days} days\")\n",
    "plt.axvline(-VaR, color = 'r', linestyle=\"dashed\", linewidth=2, label = f\"VaR at {confidence_interval:.0%} confidence level\")\n",
    "plt.legend()\n",
    "plt.show()"
   ]
  }
 ],
 "metadata": {
  "kernelspec": {
   "display_name": "Python 3",
   "language": "python",
   "name": "python3"
  },
  "language_info": {
   "codemirror_mode": {
    "name": "ipython",
    "version": 3
   },
   "file_extension": ".py",
   "mimetype": "text/x-python",
   "name": "python",
   "nbconvert_exporter": "python",
   "pygments_lexer": "ipython3",
   "version": "3.12.0"
  }
 },
 "nbformat": 4,
 "nbformat_minor": 2
}
